{
  "nbformat": 4,
  "nbformat_minor": 0,
  "metadata": {
    "colab": {
      "provenance": []
    },
    "kernelspec": {
      "name": "python3",
      "display_name": "Python 3"
    },
    "language_info": {
      "name": "python"
    }
  },
  "cells": [
    {
      "cell_type": "markdown",
      "source": [
        "# Ejercicio 5: LDA (Linear Discriminant Analysis)\n",
        "\n",
        "\n",
        "---\n",
        "\n",
        "Programen su propia implementación de LDA y utilicenlá para predecir el género de los audios procesados en el archivo dataset.csv de la carpeta Datos de la clase 6. Pueden intentar mejorar el feature engineering de los audios crudos que se encuentran en la subcarpeta Raw si así lo consideran.\n"
      ],
      "metadata": {
        "id": "c4RsUV-m3S_f"
      }
    },
    {
      "cell_type": "markdown",
      "source": [
        "## 1. Importación de librerías\n",
        "\n",
        "Importación de librerías para manipulación de datos, balanceo de clases y operaciones numéricas, visualilzación y métricas."
      ],
      "metadata": {
        "id": "SxPmGV106T9k"
      }
    },
    {
      "cell_type": "code",
      "source": [
        "# Importamos las librerías necesarias\n",
        "from sklearn.model_selection import train_test_split  # Para dividir datos en entrenamiento y prueba\n",
        "import pandas as pd                                   # Para manipular datos en formato DataFrame\n",
        "from imblearn.over_sampling import RandomOverSampler  # Para balancear clases con sobremuestreo aleatorio\n",
        "import numpy as np\n",
        "import matplotlib.pyplot as plt\n",
        "from sklearn.metrics import confusion_matrix, ConfusionMatrixDisplay\n"
      ],
      "metadata": {
        "id": "BdY450tQ6bXI"
      },
      "execution_count": null,
      "outputs": []
    },
    {
      "cell_type": "markdown",
      "source": [
        "## 2. Implementación propia de LDA\n",
        "\n",
        "Definición de una clase LDA con métodos `fit`, `predict` y `score`. Cálculo de medias, covarianza común y priors por clase. Implementación de la función discriminante lineal para la predicción y cálculo de la precisión del modelo.\n"
      ],
      "metadata": {
        "id": "3IGNBlY_6f2d"
      }
    },
    {
      "cell_type": "code",
      "execution_count": null,
      "metadata": {
        "id": "HPrRsmGo4W1J"
      },
      "outputs": [],
      "source": [
        "# Definimos la clase LDA (Linear Discriminant Analysis)\n",
        "class LDA:\n",
        "  def __init__(self):\n",
        "    # Inicializamos los atributos que usaremos durante el entrenamiento y predicción\n",
        "    self.clases = None         # Lista de clases únicas presentes en el conjunto de datos\n",
        "    self.mu = {}               # Diccionario para almacenar las medias de cada clase\n",
        "    self.sigma = None          # Matriz de covarianza común a todas las clases\n",
        "    self.priors = {}           # Diccionario para almacenar las probabilidades a priori de cada clase\n",
        "\n",
        "  def fit(self, X, y):\n",
        "\n",
        "    # Método para entrenar el modelo con los datos X e y\n",
        "\n",
        "    # Identificamos las clases únicas en la variable objetivo y\n",
        "    self.clases = np.unique(y)\n",
        "\n",
        "    # Inicializamos una matriz de covarianza con ceros del tamaño apropiado (n_features x n_features)\n",
        "    self.sigma = np.zeros((X.shape[1], X.shape[1]))\n",
        "\n",
        "    for k in self.clases:\n",
        "      # Seleccionamos las muestras pertenecientes a la clase actual\n",
        "      X_k = X[y == k]\n",
        "\n",
        "      # Calculamos la media de las características para esta clase\n",
        "      self.mu[k] = np.mean(X_k, axis=0)\n",
        "\n",
        "      # Calculamos la probabilidad a priori como la proporción de muestras de esta clase\n",
        "      self.priors[k] = len(X_k) / len(X)\n",
        "\n",
        "      # Restamos la media de la clase a cada muestra (para calcular la covarianza)\n",
        "      diff = X_k - self.mu[k]\n",
        "\n",
        "      # Acumulamos la contribución de esta clase a la matriz de covarianza\n",
        "      self.sigma += diff.T @ diff\n",
        "\n",
        "    # Dividimos entre los grados de libertad para obtener la covarianza común\n",
        "    # (len(X) - número de clases) es el ajuste para estimar correctamente la covarianza combinada\n",
        "    self.sigma /= (len(X) - len(self.clases))\n",
        "\n",
        "  def predict(self, X):\n",
        "    # Método para predecir las clases de nuevos datos X\n",
        "\n",
        "    # Intentamos invertir la matriz de covarianza; si es singular, usamos pseudoinversa\n",
        "    try:\n",
        "      inv_sigma = np.linalg.inv(self.sigma)\n",
        "    except np.linalg.LinAlgError:\n",
        "      inv_sigma = np.linalg.pinv(self.sigma)\n",
        "\n",
        "    res = []  # Lista para almacenar las predicciones finales\n",
        "\n",
        "    for x in X:\n",
        "      probs = {}  # Diccionario para almacenar las puntuaciones discriminantes por clase\n",
        "      for k in self.clases:\n",
        "        # Calculamos los términos de la función discriminante lineal\n",
        "        # Esta función evalúa qué tan probable es que el vector x pertenezca a cada clase,\n",
        "        # considerando la media, la covarianza común y el prior de cada clase.\n",
        "        term1 = 0.5 * self.mu[k] @ inv_sigma @ self.mu[k].T\n",
        "        term2 = x @ inv_sigma @ self.mu[k]\n",
        "\n",
        "        # La probabilidad (o puntuación discriminante) combina los términos y el prior\n",
        "        probs[k] = self.priors[k] - term1 + term2\n",
        "\n",
        "      # Asignamos la clase con la mayor puntuación discriminante\n",
        "      res.append(max(probs, key=probs.get))\n",
        "\n",
        "    # Convertimos las predicciones a un array de NumPy antes de devolverlas\n",
        "    return np.array(res)\n",
        "\n",
        "  def score(self, X, y):\n",
        "    # Método para calcular la precisión del modelo (accuracy) en datos dados\n",
        "    y_pred = self.predict(X)  # Hacemos predicciones sobre X\n",
        "    # Comparamos las predicciones con las etiquetas reales y calculamos el porcentaje de aciertos\n",
        "    return np.mean(y_pred == y)\n"
      ]
    },
    {
      "cell_type": "markdown",
      "source": [
        "## 3. Carga, análisis y preprocesamiento del dataset\n",
        "\n",
        "Carga del dataset y eliminación de filas con valores nulos. Separación de las variables independientes y de la etiqueta. Conversión de las etiquetas a valores numéricos. Visualización de la distribución de clases antes del balanceo para justificar la necesidad de balancear. Balanceo de las clases y división de los datos en entrenamiento y prueba."
      ],
      "metadata": {
        "id": "EYjkiPgm6zjl"
      }
    },
    {
      "cell_type": "code",
      "source": [
        "# Cargargamos el dataset\n",
        "df = pd.read_csv('dataset.csv')\n",
        "df = df.dropna()\n",
        "\n",
        "# Separar features y labels\n",
        "X = df.drop(columns=['label'])\n",
        "y = df['label'].map({\"'Male'\": 0, \"'Female'\": 1}) # Convertir a valores numericos\n",
        "\n",
        "# Visualización de la distribución de clases antes del balanceo\n",
        "plt.figure(figsize=(4,3))\n",
        "y.value_counts().plot(kind='bar', color=['skyblue', 'salmon'])\n",
        "plt.title('Distribución de clases antes del balanceo')\n",
        "plt.xlabel('Clase')\n",
        "plt.ylabel('Cantidad')\n",
        "plt.xticks(ticks=[0,1], labels=['Masculino', 'Femenino'], rotation=0)\n",
        "plt.show()\n",
        "\n",
        "# Resample para balancear las clases\n",
        "# El balanceo es importante para evitar sesgo en la predicción, ya que si una clase tiene muchas más muestras que la otra,\n",
        "# el modelo tendería a predecir siempre la clase mayoritaria.\n",
        "X_resampled, y_resampled = RandomOverSampler(random_state=42).fit_resample(X, y)\n",
        "# Dividir en entrenamiento y prueba\n",
        "X_train, X_test, y_train, y_test = train_test_split(X_resampled, y_resampled,test_size=0.2, random_state=42)\n"
      ],
      "metadata": {
        "colab": {
          "base_uri": "https://localhost:8080/",
          "height": 333
        },
        "id": "KGS3inXI9PZ5",
        "outputId": "f2bb605e-aa4d-40d0-9a25-26c5e1f54cb6"
      },
      "execution_count": null,
      "outputs": [
        {
          "output_type": "display_data",
          "data": {
            "text/plain": [
              "<Figure size 400x300 with 1 Axes>"
            ],
            "image/png": "[encoded data removed]"
          },
          "metadata": {}
        }
      ]
    },
    {
      "cell_type": "markdown",
      "source": [
        "## 4. Entrenamiento y evaluación del modelo\n",
        "Entrenamiento del modelo LDA y evaluación de la precisión sobre el set de prueba."
      ],
      "metadata": {
        "id": "QLlE3Vab699V"
      }
    },
    {
      "cell_type": "code",
      "source": [
        "# Entrenar y evaluar LDA\n",
        "lda = LDA()\n",
        "lda.fit(X_train.to_numpy(), y_train.to_numpy())\n",
        "y_pred_lda = lda.predict(X_test.to_numpy())\n",
        "print('Precisión de LDA:', lda.score(X_test.to_numpy(), y_test.to_numpy()))\n"
      ],
      "metadata": {
        "id": "7s-gv6Es7CEs",
        "outputId": "7180d36c-da1f-44bc-a94a-84e1d61fbfca",
        "colab": {
          "base_uri": "https://localhost:8080/"
        }
      },
      "execution_count": null,
      "outputs": [
        {
          "output_type": "stream",
          "name": "stdout",
          "text": [
            "Precisión de LDA: 0.91\n"
          ]
        }
      ]
    },
    {
      "cell_type": "markdown",
      "source": [
        "## 5. Visualización de resultados\n",
        "Cálculo y gráfico de la matriz de confusión para analizar el desempeño del modelo."
      ],
      "metadata": {
        "id": "dpuXdEC87dLY"
      }
    },
    {
      "cell_type": "code",
      "source": [
        "# Calcular matrices de confusión\n",
        "cm_lda = confusion_matrix(y_test, y_pred_lda)\n",
        "disp_lda = ConfusionMatrixDisplay(confusion_matrix=cm_lda, display_labels=lda.clases)\n",
        "disp_lda.plot( cmap=plt.cm.Blues)\n",
        "plt.title('Matriz de Confusión (LDA)')\n",
        "\n",
        "plt.tight_layout()\n",
        "plt.show()\n"
      ],
      "metadata": {
        "colab": {
          "base_uri": "https://localhost:8080/",
          "height": 487
        },
        "id": "Qm8bX66VBKHA",
        "outputId": "7cfa7752-df0e-4221-ac28-f805688fbfd9"
      },
      "execution_count": null,
      "outputs": [
        {
          "output_type": "display_data",
          "data": {
            "text/plain": [
              "<Figure size 640x480 with 2 Axes>"
            ],
            "image/png": "[encoded data removed]"
          },
          "metadata": {}
        }
      ]
    },
    {
      "cell_type": "markdown",
      "source": [
        "## 6. Conclusión\n",
        "Al implementar y aplicar nuestro propio modelo LDA sobre el dataset de audios, obtuvimos buenos resultados en la predicción del género. La matriz de confusión muestra que el modelo diferencia bastante bien entre masculino y femenino, aunque hay algunos errores de clasificación. Esto indica que LDA es efectivo para este tipo de datos, aunque se podría mejorar ajustando los features o probando otros métodos de preprocesamiento. En general, estamos conformes con los resultados obtenidos."
      ],
      "metadata": {
        "id": "bbzoum_i7ucS"
      }
    }
  ]
}