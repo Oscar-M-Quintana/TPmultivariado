{
  "cells": [
    {
      "cell_type": "markdown",
      "source": [
        "# Ejercicio 4: Bayes ingenuo\n",
        "\n",
        "\n",
        "---\n",
        "\n",
        "Programen su propia implementación de naive Bayes. Utilicen las técnicas vistas para procesamiento del lenguaje natural para procesar el dataset presente en la carpeta Datos de la clase 5 y hagan predicciones con su modelo sobre si el texto es relevante o no (columna relevance). Su predicción podría mejorar mucho si balancean su dataset antes de pasarlo por su modelo.\n"
      ],
      "metadata": {
        "id": "T_hW8BQd9cXu"
      }
    },
    {
      "cell_type": "markdown",
      "source": [
        "## 1. Instalación e importación de Librerías\n",
        "Importamos todas las librerías necesarias para el procesamiento de texto, modelado, balanceo y visualización."
      ],
      "metadata": {
        "id": "Cu3yfrOi_W-F"
      }
    },
    {
      "cell_type": "code",
      "source": [
        "!pip install contractions\n",
        "\n",
        "import pandas as pd # Para manipular datos en formato DataFrame\n",
        "import numpy as np # Para operaciones numéricas\n",
        "from math import log, pi,sqrt,exp\n",
        "import re # Libreria de expresiones regulares\n",
        "import string # Libreria de cadena de caracteres\n",
        "import contractions # Expande contracciones en inglés por ej. 'don´t' a 'do not'\n",
        "import nltk # Herramientas para procesamiento de lenguaje natural (tokenización, lematización, stopwords)\n",
        "from nltk.stem import WordNetLemmatizer\n",
        "from nltk.tokenize import TreebankWordTokenizer\n",
        "from sklearn.feature_extraction.text import CountVectorizer\n",
        "from sklearn.model_selection import train_test_split # Para dividir datos en entrenamiento y prueba\n",
        "from sklearn.metrics import classification_report, confusion_matrix, ConfusionMatrixDisplay\n",
        "from imblearn.over_sampling import SMOTE # Balanceo de clases en SMOTE\n",
        "from matplotlib import pyplot as plt #Visualización de resultados\n"
      ],
      "metadata": {
        "id": "SPKQROnB_ki0",
        "colab": {
          "base_uri": "https://localhost:8080/"
        },
        "outputId": "54de9753-3c4d-44d5-e073-197eccbbc7eb"
      },
      "execution_count": null,
      "outputs": [
        {
          "output_type": "stream",
          "name": "stdout",
          "text": [
            "Collecting contractions\n",
            "  Downloading contractions-0.1.73-py2.py3-none-any.whl.metadata (1.2 kB)\n",
            "Collecting textsearch>=0.0.21 (from contractions)\n",
            "  Downloading textsearch-0.0.24-py2.py3-none-any.whl.metadata (1.2 kB)\n",
            "Collecting anyascii (from textsearch>=0.0.21->contractions)\n",
            "  Downloading anyascii-0.3.2-py3-none-any.whl.metadata (1.5 kB)\n",
            "Collecting pyahocorasick (from textsearch>=0.0.21->contractions)\n",
            "  Downloading pyahocorasick-2.1.0-cp311-cp311-manylinux_2_17_x86_64.manylinux2014_x86_64.whl.metadata (13 kB)\n",
            "Downloading contractions-0.1.73-py2.py3-none-any.whl (8.7 kB)\n",
            "Downloading textsearch-0.0.24-py2.py3-none-any.whl (7.6 kB)\n",
            "Downloading anyascii-0.3.2-py3-none-any.whl (289 kB)\n",
            "\u001b[2K   \u001b[90m━━━━━━━━━━━━━━━━━━━━━━━━━━━━━━━━━━━━━━━━\u001b[0m \u001b[32m289.9/289.9 kB\u001b[0m \u001b[31m8.4 MB/s\u001b[0m eta \u001b[36m0:00:00\u001b[0m\n",
            "\u001b[?25hDownloading pyahocorasick-2.1.0-cp311-cp311-manylinux_2_17_x86_64.manylinux2014_x86_64.whl (118 kB)\n",
            "\u001b[2K   \u001b[90m━━━━━━━━━━━━━━━━━━━━━━━━━━━━━━━━━━━━━━━━\u001b[0m \u001b[32m118.3/118.3 kB\u001b[0m \u001b[31m6.4 MB/s\u001b[0m eta \u001b[36m0:00:00\u001b[0m\n",
            "\u001b[?25hInstalling collected packages: pyahocorasick, anyascii, textsearch, contractions\n",
            "Successfully installed anyascii-0.3.2 contractions-0.1.73 pyahocorasick-2.1.0 textsearch-0.0.24\n"
          ]
        }
      ]
    },
    {
      "cell_type": "markdown",
      "source": [
        "## 2. Parámetros principales del experimento\n",
        "\n",
        "Definimos los parámetros clave para facilitar cambios y experimentación.\n",
        "\n"
      ],
      "metadata": {
        "id": "oOIHzAtBuh_s"
      }
    },
    {
      "cell_type": "code",
      "source": [
        "MAX_FEATURES = 1200     # Número máx de palabras (features) a considerar\n",
        "NGRAM_RANGE = (1, 2)    # Rango de n-gramas (palabras o pares de palabras)\n",
        "ALPHA = 1.0             # Suavizado de Laplace para evitar probabilidades nulas\n",
        "TEST_SIZE = 0.2         # Proporción de datos para test\n",
        "RANDOM_STATE = 42       # Semilla para reproducibilidad"
      ],
      "metadata": {
        "id": "U2Nb0Y9jwXaR"
      },
      "execution_count": null,
      "outputs": []
    },
    {
      "cell_type": "markdown",
      "source": [
        "## 3. Carga y Exploración de los Datos\n",
        "Cargamos el dataset y realizamos una exploración inicial de las columnas y del cnotenido textual. De esta manera verificamos la estructura de los datos y nos aseguramos que la columna `text` contiene la información relevante para el análisis.\n"
      ],
      "metadata": {
        "id": "VBb9cmzJACFB"
      }
    },
    {
      "cell_type": "code",
      "source": [
        "# Cargar archivo\n",
        "df = pd.read_csv('US-Economic-News.csv', encoding_errors='ignore')\n",
        "\n",
        "# Ver columnas\n",
        "df.head()"
      ],
      "metadata": {
        "colab": {
          "base_uri": "https://localhost:8080/",
          "height": 573
        },
        "id": "W4mn_jm2_-_N",
        "outputId": "cb74ab21-c4e7-425b-974e-bb0c5534747d"
      },
      "execution_count": null,
      "outputs": [
        {
          "output_type": "execute_result",
          "data": {
            "text/plain": [
              "    _unit_id  _golden _unit_state  _trusted_judgments _last_judgment_at  \\\n",
              "0  842613455    False   finalized                   3     12/5/15 17:48   \n",
              "1  842613456    False   finalized                   3     12/5/15 16:54   \n",
              "2  842613457    False   finalized                   3      12/5/15 1:59   \n",
              "3  842613458    False   finalized                   3      12/5/15 2:19   \n",
              "4  842613459    False   finalized                   3     12/5/15 17:48   \n",
              "\n",
              "   positivity  positivity:confidence relevance  relevance:confidence  \\\n",
              "0         3.0                 0.6400       yes                 0.640   \n",
              "1         NaN                    NaN        no                 1.000   \n",
              "2         NaN                    NaN        no                 1.000   \n",
              "3         NaN                 0.0000        no                 0.675   \n",
              "4         3.0                 0.3257       yes                 0.640   \n",
              "\n",
              "       articleid      date                                           headline  \\\n",
              "0  wsj_398217788   8/14/91              Yields on CDs Fell in the Latest Week   \n",
              "1  wsj_399019502   8/21/07  The Morning Brief: White House Seeks to Limit ...   \n",
              "2  wsj_398284048  11/14/91  Banking Bill Negotiators Set Compromise --- Pl...   \n",
              "3  wsj_397959018   6/16/86  Manager's Journal: Sniffing Out Drug Abusers I...   \n",
              "4  wsj_398838054   10/4/02  Currency Trading: Dollar Remains in Tight Rang...   \n",
              "\n",
              "   positivity_gold  relevance_gold  \\\n",
              "0              NaN             NaN   \n",
              "1              NaN             NaN   \n",
              "2              NaN             NaN   \n",
              "3              NaN             NaN   \n",
              "4              NaN             NaN   \n",
              "\n",
              "                                                text  \n",
              "0  NEW YORK -- Yields on most certificates of dep...  \n",
              "1  The Wall Street Journal Online</br></br>The Mo...  \n",
              "2  WASHINGTON -- In an effort to achieve banking ...  \n",
              "3  The statistics on the enormous costs of employ...  \n",
              "4  NEW YORK -- Indecision marked the dollar's ton...  "
            ],
            "text/html": [
              "\n",
              "  <div id=\"df-0f80fb49-e99e-430e-9f07-777e7fc91a7b\" class=\"colab-df-container\">\n",
              "    <div>\n",
              "<style scoped>\n",
              "    .dataframe tbody tr th:only-of-type {\n",
              "        vertical-align: middle;\n",
              "    }\n",
              "\n",
              "    .dataframe tbody tr th {\n",
              "        vertical-align: top;\n",
              "    }\n",
              "\n",
              "    .dataframe thead th {\n",
              "        text-align: right;\n",
              "    }\n",
              "</style>\n",
              "<table border=\"1\" class=\"dataframe\">\n",
              "  <thead>\n",
              "    <tr style=\"text-align: right;\">\n",
              "      <th></th>\n",
              "      <th>_unit_id</th>\n",
              "      <th>_golden</th>\n",
              "      <th>_unit_state</th>\n",
              "      <th>_trusted_judgments</th>\n",
              "      <th>_last_judgment_at</th>\n",
              "      <th>positivity</th>\n",
              "      <th>positivity:confidence</th>\n",
              "      <th>relevance</th>\n",
              "      <th>relevance:confidence</th>\n",
              "      <th>articleid</th>\n",
              "      <th>date</th>\n",
              "      <th>headline</th>\n",
              "      <th>positivity_gold</th>\n",
              "      <th>relevance_gold</th>\n",
              "      <th>text</th>\n",
              "    </tr>\n",
              "  </thead>\n",
              "  <tbody>\n",
              "    <tr>\n",
              "      <th>0</th>\n",
              "      <td>842613455</td>\n",
              "      <td>False</td>\n",
              "      <td>finalized</td>\n",
              "      <td>3</td>\n",
              "      <td>12/5/15 17:48</td>\n",
              "      <td>3.0</td>\n",
              "      <td>0.6400</td>\n",
              "      <td>yes</td>\n",
              "      <td>0.640</td>\n",
              "      <td>wsj_398217788</td>\n",
              "      <td>8/14/91</td>\n",
              "      <td>Yields on CDs Fell in the Latest Week</td>\n",
              "      <td>NaN</td>\n",
              "      <td>NaN</td>\n",
              "      <td>NEW YORK -- Yields on most certificates of dep...</td>\n",
              "    </tr>\n",
              "    <tr>\n",
              "      <th>1</th>\n",
              "      <td>842613456</td>\n",
              "      <td>False</td>\n",
              "      <td>finalized</td>\n",
              "      <td>3</td>\n",
              "      <td>12/5/15 16:54</td>\n",
              "      <td>NaN</td>\n",
              "      <td>NaN</td>\n",
              "      <td>no</td>\n",
              "      <td>1.000</td>\n",
              "      <td>wsj_399019502</td>\n",
              "      <td>8/21/07</td>\n",
              "      <td>The Morning Brief: White House Seeks to Limit ...</td>\n",
              "      <td>NaN</td>\n",
              "      <td>NaN</td>\n",
              "      <td>The Wall Street Journal Online&lt;/br&gt;&lt;/br&gt;The Mo...</td>\n",
              "    </tr>\n",
              "    <tr>\n",
              "      <th>2</th>\n",
              "      <td>842613457</td>\n",
              "      <td>False</td>\n",
              "      <td>finalized</td>\n",
              "      <td>3</td>\n",
              "      <td>12/5/15 1:59</td>\n",
              "      <td>NaN</td>\n",
              "      <td>NaN</td>\n",
              "      <td>no</td>\n",
              "      <td>1.000</td>\n",
              "      <td>wsj_398284048</td>\n",
              "      <td>11/14/91</td>\n",
              "      <td>Banking Bill Negotiators Set Compromise --- Pl...</td>\n",
              "      <td>NaN</td>\n",
              "      <td>NaN</td>\n",
              "      <td>WASHINGTON -- In an effort to achieve banking ...</td>\n",
              "    </tr>\n",
              "    <tr>\n",
              "      <th>3</th>\n",
              "      <td>842613458</td>\n",
              "      <td>False</td>\n",
              "      <td>finalized</td>\n",
              "      <td>3</td>\n",
              "      <td>12/5/15 2:19</td>\n",
              "      <td>NaN</td>\n",
              "      <td>0.0000</td>\n",
              "      <td>no</td>\n",
              "      <td>0.675</td>\n",
              "      <td>wsj_397959018</td>\n",
              "      <td>6/16/86</td>\n",
              "      <td>Manager's Journal: Sniffing Out Drug Abusers I...</td>\n",
              "      <td>NaN</td>\n",
              "      <td>NaN</td>\n",
              "      <td>The statistics on the enormous costs of employ...</td>\n",
              "    </tr>\n",
              "    <tr>\n",
              "      <th>4</th>\n",
              "      <td>842613459</td>\n",
              "      <td>False</td>\n",
              "      <td>finalized</td>\n",
              "      <td>3</td>\n",
              "      <td>12/5/15 17:48</td>\n",
              "      <td>3.0</td>\n",
              "      <td>0.3257</td>\n",
              "      <td>yes</td>\n",
              "      <td>0.640</td>\n",
              "      <td>wsj_398838054</td>\n",
              "      <td>10/4/02</td>\n",
              "      <td>Currency Trading: Dollar Remains in Tight Rang...</td>\n",
              "      <td>NaN</td>\n",
              "      <td>NaN</td>\n",
              "      <td>NEW YORK -- Indecision marked the dollar's ton...</td>\n",
              "    </tr>\n",
              "  </tbody>\n",
              "</table>\n",
              "</div>\n",
              "    <div class=\"colab-df-buttons\">\n",
              "\n",
              "  <div class=\"colab-df-container\">\n",
              "    <button class=\"colab-df-convert\" onclick=\"convertToInteractive('df-0f80fb49-e99e-430e-9f07-777e7fc91a7b')\"\n",
              "            title=\"Convert this dataframe to an interactive table.\"\n",
              "            style=\"display:none;\">\n",
              "\n",
              "  <svg xmlns=\"http://www.w3.org/2000/svg\" height=\"24px\" viewBox=\"0 -960 960 960\">\n",
              "    <path d=\"M120-120v-720h720v720H120Zm60-500h600v-160H180v160Zm220 220h160v-160H400v160Zm0 220h160v-160H400v160ZM180-400h160v-160H180v160Zm440 0h160v-160H620v160ZM180-180h160v-160H180v160Zm440 0h160v-160H620v160Z\"/>\n",
              "  </svg>\n",
              "    </button>\n",
              "\n",
              "  <style>\n",
              "    .colab-df-container {\n",
              "      display:flex;\n",
              "      gap: 12px;\n",
              "    }\n",
              "\n",
              "    .colab-df-convert {\n",
              "      background-color: #E8F0FE;\n",
              "      border: none;\n",
              "      border-radius: 50%;\n",
              "      cursor: pointer;\n",
              "      display: none;\n",
              "      fill: #1967D2;\n",
              "      height: 32px;\n",
              "      padding: 0 0 0 0;\n",
              "      width: 32px;\n",
              "    }\n",
              "\n",
              "    .colab-df-convert:hover {\n",
              "      background-color: #E2EBFA;\n",
              "      box-shadow: 0px 1px 2px rgba(60, 64, 67, 0.3), 0px 1px 3px 1px rgba(60, 64, 67, 0.15);\n",
              "      fill: #174EA6;\n",
              "    }\n",
              "\n",
              "    .colab-df-buttons div {\n",
              "      margin-bottom: 4px;\n",
              "    }\n",
              "\n",
              "    [theme=dark] .colab-df-convert {\n",
              "      background-color: #3B4455;\n",
              "      fill: #D2E3FC;\n",
              "    }\n",
              "\n",
              "    [theme=dark] .colab-df-convert:hover {\n",
              "      background-color: #434B5C;\n",
              "      box-shadow: 0px 1px 3px 1px rgba(0, 0, 0, 0.15);\n",
              "      filter: drop-shadow(0px 1px 2px rgba(0, 0, 0, 0.3));\n",
              "      fill: #FFFFFF;\n",
              "    }\n",
              "  </style>\n",
              "\n",
              "    <script>\n",
              "      const buttonEl =\n",
              "        document.querySelector('#df-0f80fb49-e99e-430e-9f07-777e7fc91a7b button.colab-df-convert');\n",
              "      buttonEl.style.display =\n",
              "        google.colab.kernel.accessAllowed ? 'block' : 'none';\n",
              "\n",
              "      async function convertToInteractive(key) {\n",
              "        const element = document.querySelector('#df-0f80fb49-e99e-430e-9f07-777e7fc91a7b');\n",
              "        const dataTable =\n",
              "          await google.colab.kernel.invokeFunction('convertToInteractive',\n",
              "                                                    [key], {});\n",
              "        if (!dataTable) return;\n",
              "\n",
              "        const docLinkHtml = 'Like what you see? Visit the ' +\n",
              "          '<a target=\"_blank\" href=https://colab.research.google.com/notebooks/data_table.ipynb>data table notebook</a>'\n",
              "          + ' to learn more about interactive tables.';\n",
              "        element.innerHTML = '';\n",
              "        dataTable['output_type'] = 'display_data';\n",
              "        await google.colab.output.renderOutput(dataTable, element);\n",
              "        const docLink = document.createElement('div');\n",
              "        docLink.innerHTML = docLinkHtml;\n",
              "        element.appendChild(docLink);\n",
              "      }\n",
              "    </script>\n",
              "  </div>\n",
              "\n",
              "\n",
              "    <div id=\"df-4c39aa42-800a-4d27-ba98-1297778189b0\">\n",
              "      <button class=\"colab-df-quickchart\" onclick=\"quickchart('df-4c39aa42-800a-4d27-ba98-1297778189b0')\"\n",
              "                title=\"Suggest charts\"\n",
              "                style=\"display:none;\">\n",
              "\n",
              "<svg xmlns=\"http://www.w3.org/2000/svg\" height=\"24px\"viewBox=\"0 0 24 24\"\n",
              "     width=\"24px\">\n",
              "    <g>\n",
              "        <path d=\"M19 3H5c-1.1 0-2 .9-2 2v14c0 1.1.9 2 2 2h14c1.1 0 2-.9 2-2V5c0-1.1-.9-2-2-2zM9 17H7v-7h2v7zm4 0h-2V7h2v10zm4 0h-2v-4h2v4z\"/>\n",
              "    </g>\n",
              "</svg>\n",
              "      </button>\n",
              "\n",
              "<style>\n",
              "  .colab-df-quickchart {\n",
              "      --bg-color: #E8F0FE;\n",
              "      --fill-color: #1967D2;\n",
              "      --hover-bg-color: #E2EBFA;\n",
              "      --hover-fill-color: #174EA6;\n",
              "      --disabled-fill-color: #AAA;\n",
              "      --disabled-bg-color: #DDD;\n",
              "  }\n",
              "\n",
              "  [theme=dark] .colab-df-quickchart {\n",
              "      --bg-color: #3B4455;\n",
              "      --fill-color: #D2E3FC;\n",
              "      --hover-bg-color: #434B5C;\n",
              "      --hover-fill-color: #FFFFFF;\n",
              "      --disabled-bg-color: #3B4455;\n",
              "      --disabled-fill-color: #666;\n",
              "  }\n",
              "\n",
              "  .colab-df-quickchart {\n",
              "    background-color: var(--bg-color);\n",
              "    border: none;\n",
              "    border-radius: 50%;\n",
              "    cursor: pointer;\n",
              "    display: none;\n",
              "    fill: var(--fill-color);\n",
              "    height: 32px;\n",
              "    padding: 0;\n",
              "    width: 32px;\n",
              "  }\n",
              "\n",
              "  .colab-df-quickchart:hover {\n",
              "    background-color: var(--hover-bg-color);\n",
              "    box-shadow: 0 1px 2px rgba(60, 64, 67, 0.3), 0 1px 3px 1px rgba(60, 64, 67, 0.15);\n",
              "    fill: var(--button-hover-fill-color);\n",
              "  }\n",
              "\n",
              "  .colab-df-quickchart-complete:disabled,\n",
              "  .colab-df-quickchart-complete:disabled:hover {\n",
              "    background-color: var(--disabled-bg-color);\n",
              "    fill: var(--disabled-fill-color);\n",
              "    box-shadow: none;\n",
              "  }\n",
              "\n",
              "  .colab-df-spinner {\n",
              "    border: 2px solid var(--fill-color);\n",
              "    border-color: transparent;\n",
              "    border-bottom-color: var(--fill-color);\n",
              "    animation:\n",
              "      spin 1s steps(1) infinite;\n",
              "  }\n",
              "\n",
              "  @keyframes spin {\n",
              "    0% {\n",
              "      border-color: transparent;\n",
              "      border-bottom-color: var(--fill-color);\n",
              "      border-left-color: var(--fill-color);\n",
              "    }\n",
              "    20% {\n",
              "      border-color: transparent;\n",
              "      border-left-color: var(--fill-color);\n",
              "      border-top-color: var(--fill-color);\n",
              "    }\n",
              "    30% {\n",
              "      border-color: transparent;\n",
              "      border-left-color: var(--fill-color);\n",
              "      border-top-color: var(--fill-color);\n",
              "      border-right-color: var(--fill-color);\n",
              "    }\n",
              "    40% {\n",
              "      border-color: transparent;\n",
              "      border-right-color: var(--fill-color);\n",
              "      border-top-color: var(--fill-color);\n",
              "    }\n",
              "    60% {\n",
              "      border-color: transparent;\n",
              "      border-right-color: var(--fill-color);\n",
              "    }\n",
              "    80% {\n",
              "      border-color: transparent;\n",
              "      border-right-color: var(--fill-color);\n",
              "      border-bottom-color: var(--fill-color);\n",
              "    }\n",
              "    90% {\n",
              "      border-color: transparent;\n",
              "      border-bottom-color: var(--fill-color);\n",
              "    }\n",
              "  }\n",
              "</style>\n",
              "\n",
              "      <script>\n",
              "        async function quickchart(key) {\n",
              "          const quickchartButtonEl =\n",
              "            document.querySelector('#' + key + ' button');\n",
              "          quickchartButtonEl.disabled = true;  // To prevent multiple clicks.\n",
              "          quickchartButtonEl.classList.add('colab-df-spinner');\n",
              "          try {\n",
              "            const charts = await google.colab.kernel.invokeFunction(\n",
              "                'suggestCharts', [key], {});\n",
              "          } catch (error) {\n",
              "            console.error('Error during call to suggestCharts:', error);\n",
              "          }\n",
              "          quickchartButtonEl.classList.remove('colab-df-spinner');\n",
              "          quickchartButtonEl.classList.add('colab-df-quickchart-complete');\n",
              "        }\n",
              "        (() => {\n",
              "          let quickchartButtonEl =\n",
              "            document.querySelector('#df-4c39aa42-800a-4d27-ba98-1297778189b0 button');\n",
              "          quickchartButtonEl.style.display =\n",
              "            google.colab.kernel.accessAllowed ? 'block' : 'none';\n",
              "        })();\n",
              "      </script>\n",
              "    </div>\n",
              "\n",
              "    </div>\n",
              "  </div>\n"
            ],
            "application/vnd.google.colaboratory.intrinsic+json": {
              "type": "dataframe",
              "variable_name": "df",
              "summary": "{\n  \"name\": \"df\",\n  \"rows\": 8000,\n  \"fields\": [\n    {\n      \"column\": \"_unit_id\",\n      \"properties\": {\n        \"dtype\": \"number\",\n        \"std\": 5816277,\n        \"min\": 830981629,\n        \"max\": 842617463,\n        \"num_unique_values\": 8000,\n        \"samples\": [\n          842615676,\n          842616043,\n          842615121\n        ],\n        \"semantic_type\": \"\",\n        \"description\": \"\"\n      }\n    },\n    {\n      \"column\": \"_golden\",\n      \"properties\": {\n        \"dtype\": \"boolean\",\n        \"num_unique_values\": 1,\n        \"samples\": [\n          false\n        ],\n        \"semantic_type\": \"\",\n        \"description\": \"\"\n      }\n    },\n    {\n      \"column\": \"_unit_state\",\n      \"properties\": {\n        \"dtype\": \"category\",\n        \"num_unique_values\": 1,\n        \"samples\": [\n          \"finalized\"\n        ],\n        \"semantic_type\": \"\",\n        \"description\": \"\"\n      }\n    },\n    {\n      \"column\": \"_trusted_judgments\",\n      \"properties\": {\n        \"dtype\": \"number\",\n        \"std\": 0,\n        \"min\": 3,\n        \"max\": 3,\n        \"num_unique_values\": 1,\n        \"samples\": [\n          3\n        ],\n        \"semantic_type\": \"\",\n        \"description\": \"\"\n      }\n    },\n    {\n      \"column\": \"_last_judgment_at\",\n      \"properties\": {\n        \"dtype\": \"object\",\n        \"num_unique_values\": 1229,\n        \"samples\": [\n          \"12/5/15 20:47\"\n        ],\n        \"semantic_type\": \"\",\n        \"description\": \"\"\n      }\n    },\n    {\n      \"column\": \"positivity\",\n      \"properties\": {\n        \"dtype\": \"number\",\n        \"std\": 1.6803573222765273,\n        \"min\": 2.0,\n        \"max\": 9.0,\n        \"num_unique_values\": 8,\n        \"samples\": [\n          4.0\n        ],\n        \"semantic_type\": \"\",\n        \"description\": \"\"\n      }\n    },\n    {\n      \"column\": \"positivity:confidence\",\n      \"properties\": {\n        \"dtype\": \"number\",\n        \"std\": 0.26959260369192883,\n        \"min\": 0.0,\n        \"max\": 1.0,\n        \"num_unique_values\": 382,\n        \"samples\": [\n          0.637\n        ],\n        \"semantic_type\": \"\",\n        \"description\": \"\"\n      }\n    },\n    {\n      \"column\": \"relevance\",\n      \"properties\": {\n        \"dtype\": \"category\",\n        \"num_unique_values\": 3,\n        \"samples\": [\n          \"yes\"\n        ],\n        \"semantic_type\": \"\",\n        \"description\": \"\"\n      }\n    },\n    {\n      \"column\": \"relevance:confidence\",\n      \"properties\": {\n        \"dtype\": \"number\",\n        \"std\": 0.1661803883547498,\n        \"min\": 0.3364,\n        \"max\": 1.0,\n        \"num_unique_values\": 432,\n        \"samples\": [\n          0.3465\n        ],\n        \"semantic_type\": \"\",\n        \"description\": \"\"\n      }\n    },\n    {\n      \"column\": \"articleid\",\n      \"properties\": {\n        \"dtype\": \"string\",\n        \"num_unique_values\": 8000,\n        \"samples\": [\n          \"wsj_397949534\"\n        ],\n        \"semantic_type\": \"\",\n        \"description\": \"\"\n      }\n    },\n    {\n      \"column\": \"date\",\n      \"properties\": {\n        \"dtype\": \"object\",\n        \"num_unique_values\": 6109,\n        \"samples\": [\n          \"2/19/86\"\n        ],\n        \"semantic_type\": \"\",\n        \"description\": \"\"\n      }\n    },\n    {\n      \"column\": \"headline\",\n      \"properties\": {\n        \"dtype\": \"string\",\n        \"num_unique_values\": 7698,\n        \"samples\": [\n          \"Dollar Takes a Nose Dive Against Major Currencies Series: The Stock Market Crisis\"\n        ],\n        \"semantic_type\": \"\",\n        \"description\": \"\"\n      }\n    },\n    {\n      \"column\": \"positivity_gold\",\n      \"properties\": {\n        \"dtype\": \"number\",\n        \"std\": null,\n        \"min\": null,\n        \"max\": null,\n        \"num_unique_values\": 0,\n        \"samples\": [],\n        \"semantic_type\": \"\",\n        \"description\": \"\"\n      }\n    },\n    {\n      \"column\": \"relevance_gold\",\n      \"properties\": {\n        \"dtype\": \"number\",\n        \"std\": null,\n        \"min\": null,\n        \"max\": null,\n        \"num_unique_values\": 0,\n        \"samples\": [],\n        \"semantic_type\": \"\",\n        \"description\": \"\"\n      }\n    },\n    {\n      \"column\": \"text\",\n      \"properties\": {\n        \"dtype\": \"string\",\n        \"num_unique_values\": 7994,\n        \"samples\": [],\n        \"semantic_type\": \"\",\n        \"description\": \"\"\n      }\n    }\n  ]\n}"
            }
          },
          "metadata": {},
          "execution_count": 4
        }
      ]
    },
    {
      "cell_type": "code",
      "source": [
        "df['text'].head()"
      ],
      "metadata": {
        "id": "PxfxAGO7Uprz",
        "colab": {
          "base_uri": "https://localhost:8080/",
          "height": 241
        },
        "outputId": "0e860207-0533-4c70-9a4b-95ec2c61dafb"
      },
      "execution_count": null,
      "outputs": [
        {
          "output_type": "execute_result",
          "data": {
            "text/plain": [
              "0    NEW YORK -- Yields on most certificates of dep...\n",
              "1    The Wall Street Journal Online</br></br>The Mo...\n",
              "2    WASHINGTON -- In an effort to achieve banking ...\n",
              "3    The statistics on the enormous costs of employ...\n",
              "4    NEW YORK -- Indecision marked the dollar's ton...\n",
              "Name: text, dtype: object"
            ],
            "text/html": [
              "<div>\n",
              "<style scoped>\n",
              "    .dataframe tbody tr th:only-of-type {\n",
              "        vertical-align: middle;\n",
              "    }\n",
              "\n",
              "    .dataframe tbody tr th {\n",
              "        vertical-align: top;\n",
              "    }\n",
              "\n",
              "    .dataframe thead th {\n",
              "        text-align: right;\n",
              "    }\n",
              "</style>\n",
              "<table border=\"1\" class=\"dataframe\">\n",
              "  <thead>\n",
              "    <tr style=\"text-align: right;\">\n",
              "      <th></th>\n",
              "      <th>text</th>\n",
              "    </tr>\n",
              "  </thead>\n",
              "  <tbody>\n",
              "    <tr>\n",
              "      <th>0</th>\n",
              "      <td>NEW YORK -- Yields on most certificates of dep...</td>\n",
              "    </tr>\n",
              "    <tr>\n",
              "      <th>1</th>\n",
              "      <td>The Wall Street Journal Online&lt;/br&gt;&lt;/br&gt;The Mo...</td>\n",
              "    </tr>\n",
              "    <tr>\n",
              "      <th>2</th>\n",
              "      <td>WASHINGTON -- In an effort to achieve banking ...</td>\n",
              "    </tr>\n",
              "    <tr>\n",
              "      <th>3</th>\n",
              "      <td>The statistics on the enormous costs of employ...</td>\n",
              "    </tr>\n",
              "    <tr>\n",
              "      <th>4</th>\n",
              "      <td>NEW YORK -- Indecision marked the dollar's ton...</td>\n",
              "    </tr>\n",
              "  </tbody>\n",
              "</table>\n",
              "</div><br><label><b>dtype:</b> object</label>"
            ]
          },
          "metadata": {},
          "execution_count": 5
        }
      ]
    },
    {
      "cell_type": "markdown",
      "source": [
        "## 4. Implementación del Clasificador Naive Bayes\n",
        "\n",
        "En este bloque se define la clase `NaiveBayesClassifier` desde cero para que soporte distintas variantes, entre ellas:\n",
        "\n",
        "*   **Bernoulli:** Para variables binarias (presencia ausencia de palabras).\n",
        "*   **Multinomial:** Para conteo de palabras.\n",
        "*   **Gaussiano:** Para variables continuas (no usado en este caso, solo para mostrar que la clase puede adaptarse a otros tipos de datos).\n"
      ],
      "metadata": {
        "id": "2HIL5StS_Jca"
      }
    },
    {
      "cell_type": "code",
      "source": [
        "# Implementa un clasificador Naive Bayes\n",
        "class NaiveBayesClassifier:\n",
        "    def __init__(self, model_type='bernoulli', alpha=1.0):\n",
        "        \"\"\"\n",
        "        Inicializa el clasificador.\n",
        "\n",
        "        model_type: tipo de modelo ['bernoulli', 'gaussian', 'multinomial']\n",
        "        alpha: parámetro de suavizado de Laplace (evita divisiones por cero)\n",
        "        \"\"\"\n",
        "        assert model_type in ['bernoulli', 'gaussian', 'multinomial'], 'Tipo de modelo inválido'\n",
        "        self.model_type = model_type\n",
        "        self.alpha = alpha\n",
        "        self.class_summary = {}  # Diccionario para guardar los parámetros por clase\n",
        "        self.n_features_ = None  # Cantidad de características del dataset\n",
        "\n",
        "    def fit(self, X, y):\n",
        "        \"\"\"\n",
        "        Ajusta el modelo a los datos.\n",
        "\n",
        "        X: matriz de características (numpy array)\n",
        "        y: vector de etiquetas de clase\n",
        "        \"\"\"\n",
        "        X = np.array(X)\n",
        "        y = np.array(y)\n",
        "        self.n_features_ = X.shape[1]\n",
        "        classes = np.unique(y)  # Lista de clases únicas\n",
        "\n",
        "        # Procesar cada clase por separado\n",
        "        for class_label in classes:\n",
        "            X_class = X[y == class_label]  # Subconjunto de datos de la clase\n",
        "            prior_proba = len(X_class) / len(X)  # Probabilidad a priori de la clase\n",
        "\n",
        "            if self.model_type == 'bernoulli':\n",
        "                # Calcular probabilidad de que cada característica sea 1 (presente)\n",
        "                feature_probs = (np.sum(X_class, axis=0) + self.alpha) / (X_class.shape[0] + 2 * self.alpha)\n",
        "                self.class_summary[class_label] = {\n",
        "                    'prior': prior_proba,\n",
        "                    'feature_probs': feature_probs,\n",
        "                    'feature_inv_probs': 1 - feature_probs  # Probabilidades para valores 0\n",
        "                }\n",
        "\n",
        "            elif self.model_type == 'gaussian':\n",
        "                # Calcular media y desviación estándar para cada característica\n",
        "                means = X_class.mean(axis=0)\n",
        "                stds = X_class.std(axis=0) + 1e-9  # Se suma pequeño valor para evitar división por cero\n",
        "                self.class_summary[class_label] = {\n",
        "                    'prior': prior_proba,\n",
        "                    'means': means,\n",
        "                    'stds': stds\n",
        "                }\n",
        "\n",
        "            elif self.model_type == 'multinomial':\n",
        "                # Calcular conteo de ocurrencias por característica\n",
        "                feature_counts = np.sum(X_class, axis=0)\n",
        "                total_count = np.sum(feature_counts) + self.alpha * self.n_features_\n",
        "                feature_probs = (feature_counts + self.alpha) / (total_count) # Probabilidad condicional con suavizado\n",
        "                self.class_summary[class_label] = {\n",
        "                    'prior': prior_proba,\n",
        "                    'feature_probs': feature_probs\n",
        "                }\n",
        "\n",
        "        return self\n",
        "\n",
        "    def _gaussian_prob(self, x, mean, std):\n",
        "        \"\"\"\n",
        "        Calcula la probabilidad de x dado una distribución normal (gaussiana).\n",
        "\n",
        "        x: valor observado\n",
        "        mean: media\n",
        "        std: desviación estándar\n",
        "        \"\"\"\n",
        "        exponent = exp(-((x - mean) ** 2) / (2 * std ** 2))\n",
        "        return (1 / (sqrt(2 * pi) * std)) * exponent\n",
        "\n",
        "    def predict(self, X):\n",
        "        \"\"\"\n",
        "        Realiza predicciones para un conjunto de datos X.\n",
        "\n",
        "        X: matriz de ejemplos a predecir\n",
        "        \"\"\"\n",
        "        X = np.array(X)\n",
        "        predictions = []\n",
        "\n",
        "        for row in X:\n",
        "            posteriors = {}  # Probabilidades finales por clase\n",
        "\n",
        "            for class_label, summary in self.class_summary.items():\n",
        "                p = summary['prior']  # Inicia con la probabilidad a priori\n",
        "\n",
        "                if self.model_type == 'bernoulli':\n",
        "                    for i in range(self.n_features_):\n",
        "                        if row[i] == 1:\n",
        "                            # Multiplica por la probabilidad condicional de que la característica esté presente\n",
        "                            p *= summary['feature_probs'][i]\n",
        "                        else:\n",
        "                            # Multiplica por la probabilidad de que esté ausente\n",
        "                            p *= summary['feature_inv_probs'][i]\n",
        "\n",
        "                elif self.model_type == 'gaussian':\n",
        "                    for i in range(self.n_features_):\n",
        "                        # Multiplica por la probabilidad bajo la distribución normal\n",
        "                        p *= self._gaussian_prob(row[i], summary['means'][i], summary['stds'][i])\n",
        "\n",
        "                elif self.model_type == 'multinomial':\n",
        "                    for i in range(self.n_features_):\n",
        "                        # Multiplica la probabilidad de la característica elevada al número de veces que aparece\n",
        "                        p *= summary['feature_probs'][i] ** row[i]\n",
        "\n",
        "\n",
        "                # Almacena la probabilidad final para esta clase\n",
        "                posteriors[class_label] = p\n",
        "\n",
        "            # Selecciona la clase con la mayor probabilidad\n",
        "            predictions.append(max(posteriors, key=posteriors.get))\n",
        "\n",
        "        return predictions\n",
        "\n"
      ],
      "metadata": {
        "id": "B9kkPt9DWt5R"
      },
      "execution_count": null,
      "outputs": []
    },
    {
      "cell_type": "markdown",
      "source": [
        "## 5. Preprocesamiento de texto (limpieza)\n",
        "\n",
        "Se realiza la limpieza del texto: expansión de contracciones, eliminación de etiquetas HTML, signos de puntuación, números y espacios extra, conversión a minúsculas, tokenización, lematización y remoción de stopwords."
      ],
      "metadata": {
        "id": "5KCagQL2U4Nt"
      }
    },
    {
      "cell_type": "code",
      "source": [
        "# Expansión de contracciones\n",
        "df['text'] = df['text'].apply(contractions.fix)\n",
        "\n",
        "def clean_text_round1(text):\n",
        "    text = str(text).lower()  # Asegura que sea texto y pasa a minúsculas\n",
        "\n",
        "    text = re.sub(r'<.*?>', ' ', text)                         # Elimina etiquetas HTML (como <br>)\n",
        "    text = re.sub(r'[\\r\\n\\t]+', ' ', text)                     # Elimina saltos de línea y tabulaciones\n",
        "    text = re.sub(r'\\[.*?\\]', ' ', text)                       # Elimina contenido entre corchetes\n",
        "    text = re.sub(r'[%s]' % re.escape(string.punctuation), ' ', text)  # Signos de puntuación\n",
        "    text = re.sub(r'\\w*\\d\\w*', ' ', text)                      # Palabras con números\n",
        "    text = re.sub(r'\\s+', ' ', text).strip()                   # Espacios múltiples\n",
        "\n",
        "    return text\n",
        "for n, i in enumerate(df['text']):\n",
        "  df.loc[n, 'text'] = clean_text_round1(i)\n",
        "\n",
        "\n",
        "tokenizer = TreebankWordTokenizer()\n",
        "nltk.download('wordnet')\n",
        "lemmatizer = WordNetLemmatizer() # funcion para lematizar\n",
        "nltk.download('stopwords') # hay que descargar este modulo en particular\n",
        "\n",
        "sw = nltk.corpus.stopwords.words('english') # lista de stopwords\n",
        "\n",
        "def lemma_remove_sw(text):\n",
        "  words = tokenizer.tokenize(text)\n",
        "  words_clean = []\n",
        "  for w in words:\n",
        "    if not w in sw: # si no es stopword, agregamos la version lematizada\n",
        "      words_clean.append(lemmatizer.lemmatize(w))\n",
        "  return ' '.join(words_clean)\n",
        "\n",
        "\n",
        "\n",
        "for n, i in enumerate(df['text']):\n",
        "  df.loc[n, 'text'] = lemma_remove_sw(i)\n"
      ],
      "metadata": {
        "id": "Fs_0ukgLAHV_",
        "colab": {
          "base_uri": "https://localhost:8080/"
        },
        "outputId": "a8bb28bd-78a4-4876-9aca-89ddf1512f36"
      },
      "execution_count": null,
      "outputs": [
        {
          "output_type": "stream",
          "name": "stderr",
          "text": [
            "[nltk_data] Downloading package wordnet to /root/nltk_data...\n",
            "[nltk_data] Downloading package stopwords to /root/nltk_data...\n",
            "[nltk_data]   Unzipping corpora/stopwords.zip.\n"
          ]
        }
      ]
    },
    {
      "cell_type": "markdown",
      "source": [
        "## 6. Análisis de la variable objetivo\n",
        "\n",
        "Se analiza la distribución de la variable `relevance` y se eliminan los registros con valor 'not sure', dejando solo las clases relevantes para la tarea de clasificación binaria ('yes' y 'no')."
      ],
      "metadata": {
        "id": "d8GTE6Qc5gFH"
      }
    },
    {
      "cell_type": "code",
      "source": [
        "print(df['relevance'].value_counts())\n",
        "\n",
        "#como de not sure hay solo 9 valores y nos interesaba saber si es relevante o no filtramos ese valor\n",
        "df_filtered = df[df['relevance'] != 'not sure'].copy()\n"
      ],
      "metadata": {
        "id": "PV88KxvpkvE3",
        "colab": {
          "base_uri": "https://localhost:8080/"
        },
        "outputId": "380f1129-3cfc-42d1-b9fb-844cecb978a8"
      },
      "execution_count": null,
      "outputs": [
        {
          "output_type": "stream",
          "name": "stdout",
          "text": [
            "relevance\n",
            "no          6571\n",
            "yes         1420\n",
            "not sure       9\n",
            "Name: count, dtype: int64\n"
          ]
        }
      ]
    },
    {
      "cell_type": "markdown",
      "source": [
        "## 7. Vectorización del texto\n",
        "\n",
        "Transformamos el texto en variables numéricas utilizando `CountVectorizer`, tanto en modo binario como de conteo. El primero nos indicará si una palabra aparece o no (Bernoulli), y el segundo cuenta cuántas veces aparece cada palabra (Multinomial)."
      ],
      "metadata": {
        "id": "ysZnEL891_cS"
      }
    },
    {
      "cell_type": "code",
      "execution_count": null,
      "metadata": {
        "id": "ql7673ngqM8K",
        "colab": {
          "base_uri": "https://localhost:8080/"
        },
        "outputId": "05b4a2b1-887d-4693-b355-cef775f7f972"
      },
      "outputs": [
        {
          "output_type": "stream",
          "name": "stdout",
          "text": [
            "   ability  able  according  account  accounting  across  act  action  active  \\\n",
            "0        0     0          1        0           0       0    0       0       0   \n",
            "1        0     0          0        0           0       0    0       0       0   \n",
            "2        1     0          0        0           0       0    0       0       0   \n",
            "3        0     0          1        0           0       0    0       0       0   \n",
            "4        0     0          0        0           0       0    0       0       0   \n",
            "\n",
            "   activity  ...  year ago  year earlier  year old  year treasury  yen  \\\n",
            "0         0  ...         0             0         0              0    0   \n",
            "1         0  ...         0             0         0              0    0   \n",
            "2         0  ...         0             0         0              0    0   \n",
            "3         0  ...         0             0         0              0    0   \n",
            "4         0  ...         0             0         0              0    1   \n",
            "\n",
            "   yesterday  yet  yield  york  york stock  \n",
            "0          1    0      1     1           0  \n",
            "1          0    0      0     1           0  \n",
            "2          0    0      0     0           0  \n",
            "3          0    0      0     0           0  \n",
            "4          1    0      0     1           0  \n",
            "\n",
            "[5 rows x 1200 columns]\n"
          ]
        }
      ],
      "source": [
        "# Binario\n",
        "# Convertimos el texto a palabras con CountVectorizer\n",
        "vectorizer = CountVectorizer(ngram_range=NGRAM_RANGE, max_features=MAX_FEATURES, stop_words=None, binary=True)\n",
        "X_words = vectorizer.fit_transform(df_filtered['text'].astype(str))\n",
        "\n",
        "# Convertimos a DataFrame\n",
        "X_words_df = pd.DataFrame(X_words.toarray(), columns=vectorizer.get_feature_names_out())\n",
        "\n",
        "# Revisar columnas\n",
        "print(X_words_df.head())\n"
      ]
    },
    {
      "cell_type": "markdown",
      "source": [
        "## 8. Entrenamiento y evaluación del modelo Bernoulli\n",
        "\n",
        "Entrenamiento y evaluación del modelo Naive Bayes con variables binarias, mostrando métricas y matriz de confusión."
      ],
      "metadata": {
        "id": "tRV5HdpA2Mkp"
      }
    },
    {
      "cell_type": "code",
      "source": [
        "# Target\n",
        "y = df_filtered['relevance']\n",
        "\n",
        "# Entrenamiento y test\n",
        "X_train, X_test, y_train, y_test = train_test_split(X_words_df, y, test_size=TEST_SIZE, random_state=RANDOM_STATE)\n",
        "\n",
        "#como tomamos\n",
        "model_bernoulli = NaiveBayesClassifier(model_type='bernoulli', alpha=ALPHA)\n",
        "\n",
        "model_bernoulli.fit(X_train.to_numpy(), y_train.to_list())\n",
        "\n",
        "# Predicciones\n",
        "y_pred_bernoulli = model_bernoulli.predict(X_test.to_numpy())\n",
        "\n",
        "cm=confusion_matrix(y_test, y_pred_bernoulli)\n",
        "print(classification_report(y_test, y_pred_bernoulli))\n",
        "disp_bernoulli = ConfusionMatrixDisplay(confusion_matrix=cm,display_labels=y.unique())\n",
        "disp_bernoulli.plot(cmap=plt.cm.Blues)\n",
        "\n",
        "\n",
        "plt.tight_layout()\n",
        "plt.show()"
      ],
      "metadata": {
        "id": "XXVMTo9BuPiy",
        "colab": {
          "base_uri": "https://localhost:8080/",
          "height": 646
        },
        "outputId": "ceb41fe7-d6f8-4301-f8d8-929c87f1a708"
      },
      "execution_count": null,
      "outputs": [
        {
          "output_type": "stream",
          "name": "stdout",
          "text": [
            "              precision    recall  f1-score   support\n",
            "\n",
            "          no       0.89      0.74      0.81      1302\n",
            "         yes       0.34      0.60      0.43       297\n",
            "\n",
            "    accuracy                           0.71      1599\n",
            "   macro avg       0.61      0.67      0.62      1599\n",
            "weighted avg       0.79      0.71      0.74      1599\n",
            "\n"
          ]
        },
        {
          "output_type": "display_data",
          "data": {
            "text/plain": [
              "<Figure size 640x480 with 2 Axes>"
            ],
            "image/png": "[encoded data removed]"
          },
          "metadata": {}
        }
      ]
    },
    {
      "cell_type": "markdown",
      "source": [
        "## 9. Balanceo del dataset\n",
        "\n",
        "Aplicación de SMOTE para balancear las clases y se repite el entrenamiento y evaluación del modelo Bernoulli."
      ],
      "metadata": {
        "id": "fW68ybViGz2y"
      }
    },
    {
      "cell_type": "code",
      "source": [
        "# Balanceo\n",
        "smote=SMOTE(random_state=RANDOM_STATE)\n",
        "X_resampled, y_resampled = smote.fit_resample(X_words_df, y)\n",
        "\n",
        "# Dividir ahora\n",
        "X_train_bal, X_test_bal, y_train_bal, y_test_bal = train_test_split(X_resampled, y_resampled, test_size=TEST_SIZE, random_state=RANDOM_STATE)\n",
        "\n",
        "model_bernoulli = NaiveBayesClassifier(model_type='bernoulli', alpha=ALPHA)\n",
        "\n",
        "model_bernoulli.fit(X_train_bal.to_numpy(), y_train_bal.to_list())\n",
        "\n",
        "# Predicciones\n",
        "y_pred_b = model_bernoulli.predict(X_test_bal.to_numpy())\n",
        "cm=confusion_matrix(y_test_bal, y_pred_b)\n",
        "print(classification_report(y_test_bal, y_pred_b))\n",
        "disp_bernoulli = ConfusionMatrixDisplay(confusion_matrix=cm,display_labels=y.unique())\n",
        "disp_bernoulli.plot(cmap=plt.cm.Blues)\n",
        "\n",
        "plt.tight_layout()\n",
        "plt.show()"
      ],
      "metadata": {
        "id": "orb_lIFSFaEm",
        "colab": {
          "base_uri": "https://localhost:8080/",
          "height": 646
        },
        "outputId": "ae93e73e-78a1-4b76-8e2d-f6f5a383ed54"
      },
      "execution_count": null,
      "outputs": [
        {
          "output_type": "stream",
          "name": "stdout",
          "text": [
            "              precision    recall  f1-score   support\n",
            "\n",
            "          no       0.82      0.94      0.88      1320\n",
            "         yes       0.93      0.79      0.86      1309\n",
            "\n",
            "    accuracy                           0.87      2629\n",
            "   macro avg       0.88      0.87      0.87      2629\n",
            "weighted avg       0.88      0.87      0.87      2629\n",
            "\n"
          ]
        },
        {
          "output_type": "display_data",
          "data": {
            "text/plain": [
              "<Figure size 640x480 with 2 Axes>"
            ],
            "image/png": "[encoded data removed]"
          },
          "metadata": {}
        }
      ]
    },
    {
      "cell_type": "markdown",
      "source": [
        "## 10. Modelo Multinomial (conteo de palabras)\n",
        "\n",
        "Entrenamiento y evaluación del modelo Naive Bayes con variables de conteo, tanto en el dataset original como balanceado."
      ],
      "metadata": {
        "id": "LQk9dRovKlaK"
      }
    },
    {
      "cell_type": "code",
      "source": [
        "# Conteo\n",
        "# Convertimos el texto a palabras con CountVectorizer, contando las repeticiones de palabras\n",
        "vectorizer = CountVectorizer(ngram_range=NGRAM_RANGE, max_features=MAX_FEATURES, stop_words=None, binary=False)\n",
        "X_words = vectorizer.fit_transform(df_filtered['text'].astype(str))\n",
        "\n",
        "# Convertimos a DataFrame\n",
        "X_words_df = pd.DataFrame(X_words.toarray(), columns=vectorizer.get_feature_names_out())\n",
        "\n",
        "# Revisar columnas\n",
        "print(X_words_df.head())\n"
      ],
      "metadata": {
        "id": "XS0zFby7JCC4",
        "colab": {
          "base_uri": "https://localhost:8080/"
        },
        "outputId": "44a6c1a3-71dd-4db0-9ee6-9bbd9db027ce"
      },
      "execution_count": null,
      "outputs": [
        {
          "output_type": "stream",
          "name": "stdout",
          "text": [
            "   able  according  account  accounting  across  act  action  active  \\\n",
            "0     0          2        0           0       0    0       0       0   \n",
            "1     0          0        0           0       0    0       0       0   \n",
            "2     0          0        0           0       0    0       0       0   \n",
            "3     0          1        0           0       0    0       0       0   \n",
            "4     0          0        0           0       0    0       0       0   \n",
            "\n",
            "   activity  actually  ...  year earlier  year old  year treasury  yen  \\\n",
            "0         0         0  ...             0         0              0    0   \n",
            "1         0         0  ...             0         0              0    0   \n",
            "2         0         0  ...             0         0              0    0   \n",
            "3         0         0  ...             0         0              0    0   \n",
            "4         0         0  ...             0         0              0    5   \n",
            "\n",
            "   yesterday  yet  yield  york  york stock  zero  \n",
            "0          1    0      4     2           0     0  \n",
            "1          0    0      0     2           0     0  \n",
            "2          0    0      0     0           0     0  \n",
            "3          0    0      0     0           0     0  \n",
            "4          1    0      0     4           0     0  \n",
            "\n",
            "[5 rows x 1200 columns]\n"
          ]
        }
      ]
    },
    {
      "cell_type": "markdown",
      "source": [
        "# 11. Entrenamiento del modelo multinomial sin balancear\n",
        "\n",
        "Entrenamiento y evaluación del modelo Multinomial sobre el dataset original (sin balancear), mostrando métricas y matriz de confusión."
      ],
      "metadata": {
        "id": "B6Tu6PR7zj4Y"
      }
    },
    {
      "cell_type": "code",
      "source": [
        "# Probamos sin balancaer\n",
        "model_multinomial = NaiveBayesClassifier(model_type='multinomial', alpha=ALPHA)\n",
        "\n",
        "model_multinomial.fit(X_train.to_numpy(), y_train.to_list())\n",
        "\n",
        "# Predicciones\n",
        "y_pred_multi = model_multinomial.predict(X_test.to_numpy())\n",
        "cm=confusion_matrix(y_test, y_pred_multi)\n",
        "print(classification_report(y_test, y_pred_multi))\n",
        "disp_multi = ConfusionMatrixDisplay(confusion_matrix=cm,display_labels=y.unique())\n",
        "disp_multi.plot(cmap=plt.cm.Blues)\n",
        "\n",
        "plt.tight_layout()\n",
        "plt.show()\n",
        "\n",
        "print(classification_report(y_test, y_pred_multi))"
      ],
      "metadata": {
        "id": "PQObuH5WJB_O",
        "colab": {
          "base_uri": "https://localhost:8080/",
          "height": 806
        },
        "outputId": "1b1d28a1-148a-4d93-a917-4941552bf79c"
      },
      "execution_count": null,
      "outputs": [
        {
          "output_type": "stream",
          "name": "stdout",
          "text": [
            "              precision    recall  f1-score   support\n",
            "\n",
            "          no       0.89      0.73      0.80      1302\n",
            "         yes       0.34      0.60      0.43       297\n",
            "\n",
            "    accuracy                           0.71      1599\n",
            "   macro avg       0.61      0.67      0.62      1599\n",
            "weighted avg       0.79      0.71      0.74      1599\n",
            "\n"
          ]
        },
        {
          "output_type": "display_data",
          "data": {
            "text/plain": [
              "<Figure size 640x480 with 2 Axes>"
            ],
            "image/png": "[encoded data removed]"
          },
          "metadata": {}
        },
        {
          "output_type": "stream",
          "name": "stdout",
          "text": [
            "              precision    recall  f1-score   support\n",
            "\n",
            "          no       0.89      0.73      0.80      1302\n",
            "         yes       0.34      0.60      0.43       297\n",
            "\n",
            "    accuracy                           0.71      1599\n",
            "   macro avg       0.61      0.67      0.62      1599\n",
            "weighted avg       0.79      0.71      0.74      1599\n",
            "\n"
          ]
        }
      ]
    },
    {
      "cell_type": "markdown",
      "source": [
        "# 12. Entrenamiento mulinomial balanceado\n",
        "\n",
        "Balanceo del dataset con SMOTE y nuevo entrenamiento del modelo Multinomial.\n",
        "Evaluación del desempeño y visualización de los resultados, permitiendo una comparación con las otras variantes."
      ],
      "metadata": {
        "id": "MkiNFiLpz1o4"
      }
    },
    {
      "cell_type": "code",
      "source": [
        "# Balanceo\n",
        "smote = SMOTE(random_state=RANDOM_STATE)\n",
        "X_mres, y_mres = smote.fit_resample(X_words_df, y)\n",
        "\n",
        "# Dividir ahora\n",
        "X_train_mbal, X_test_mbal, y_train_mbal, y_test_mbal = train_test_split(X_mres, y_mres, test_size=TEST_SIZE, random_state=RANDOM_STATE, stratify=y_mres)\n",
        "\n",
        "model_multinomial = NaiveBayesClassifier(model_type='multinomial', alpha=ALPHA)\n",
        "model_multinomial.fit(X_train_mbal.to_numpy(), y_train_mbal.to_list())\n",
        "\n",
        "# Predicciones\n",
        "y_pred_mb = model_multinomial.predict(X_test_mbal.to_numpy())\n",
        "\n",
        "cm=confusion_matrix(y_test_mbal, y_pred_mb)\n",
        "print(classification_report(y_test_mbal, y_pred_mb))\n",
        "disp_bernoulli = ConfusionMatrixDisplay(confusion_matrix=cm,display_labels=y.unique())\n",
        "disp_bernoulli.plot(cmap=plt.cm.Blues)\n",
        "\n",
        "plt.tight_layout()\n",
        "plt.show()"
      ],
      "metadata": {
        "id": "_OUwcSi8JB6a",
        "colab": {
          "base_uri": "https://localhost:8080/",
          "height": 646
        },
        "outputId": "81913426-b195-40b7-a99f-9158d245e424"
      },
      "execution_count": null,
      "outputs": [
        {
          "output_type": "stream",
          "name": "stdout",
          "text": [
            "              precision    recall  f1-score   support\n",
            "\n",
            "          no       0.77      0.80      0.79      1315\n",
            "         yes       0.80      0.76      0.78      1314\n",
            "\n",
            "    accuracy                           0.78      2629\n",
            "   macro avg       0.78      0.78      0.78      2629\n",
            "weighted avg       0.78      0.78      0.78      2629\n",
            "\n"
          ]
        },
        {
          "output_type": "display_data",
          "data": {
            "text/plain": [
              "<Figure size 640x480 with 2 Axes>"
            ],
            "image/png": "[encoded data removed]"
          },
          "metadata": {}
        }
      ]
    },
    {
      "cell_type": "markdown",
      "source": [
        "## 13. Comparación visual de modelos\n",
        "\n",
        "Grafica de las métricas de accuracy y F1-score para las cuatro variantes:\n",
        "\n",
        "*   Bernoulli sin balancear\n",
        "*   Bernoulli balanceado\n",
        "*   Multinomial sin balancear\n",
        "*   Multinomial balanceado"
      ],
      "metadata": {
        "id": "Z4KXJCEx3-9h"
      }
    },
    {
      "cell_type": "code",
      "source": [
        "from sklearn.metrics import accuracy_score, f1_score\n",
        "\n",
        "labels = [\n",
        "    'Bernoulli',\n",
        "    'Bernoulli Balanceado',\n",
        "    'Multinomial',\n",
        "    'Multinomial Balanceado'\n",
        "]\n",
        "accuracy = [\n",
        "    accuracy_score(y_test, y_pred_bernoulli),\n",
        "    accuracy_score(y_test_bal, y_pred_b),\n",
        "    accuracy_score(y_test, y_pred_multi),\n",
        "    accuracy_score(y_test_mbal, y_pred_mb)\n",
        "]\n",
        "f1 = [\n",
        "    f1_score(y_test, y_pred_bernoulli, pos_label='yes'),\n",
        "    f1_score(y_test_bal, y_pred_b, pos_label='yes'),\n",
        "    f1_score(y_test, y_pred_multi, pos_label='yes'),\n",
        "    f1_score(y_test_mbal, y_pred_mb, pos_label='yes')\n",
        "]\n",
        "\n",
        "import matplotlib.pyplot as plt\n",
        "\n",
        "x = range(len(labels))\n",
        "plt.bar(x, accuracy, width=0.4, label='Accuracy', align='center')\n",
        "plt.bar(x, f1, width=0.4, label='F1-score', align='edge')\n",
        "plt.xticks(x, labels, rotation=15)\n",
        "plt.ylabel('Score')\n",
        "plt.title('Comparación de modelos')\n",
        "plt.legend()\n",
        "plt.show()"
      ],
      "metadata": {
        "id": "bs2NlY3t1w_C",
        "colab": {
          "base_uri": "https://localhost:8080/",
          "height": 495
        },
        "outputId": "a31d0dcb-424f-4b71-a843-31429c332b3b"
      },
      "execution_count": null,
      "outputs": [
        {
          "output_type": "display_data",
          "data": {
            "text/plain": [
              "<Figure size 640x480 with 1 Axes>"
            ],
            "image/png": "[encoded data removed]"
          },
          "metadata": {}
        }
      ]
    },
    {
      "cell_type": "markdown",
      "source": [
        "## 14. Conclusión\n",
        "\n",
        "El modelo Naive Bayes Bernoulli balanceado fue el que obtuvo mejores métricas de precisión y F1-score para predecir la relevancia de los textos. El balanceo de clases con SMOTE mejoró notablemente el desempeño respecto a los modelos entrenados con datos desbalanceados, tanto en la variante Bernoulli como en la Multinomial.\n"
      ],
      "metadata": {
        "id": "ojbm1gHI2WSF"
      }
    }
  ],
  "metadata": {
    "colab": {
      "provenance": []
    },
    "kernelspec": {
      "display_name": "Python 3",
      "name": "python3"
    },
    "language_info": {
      "name": "python"
    }
  },
  "nbformat": 4,
  "nbformat_minor": 0
}